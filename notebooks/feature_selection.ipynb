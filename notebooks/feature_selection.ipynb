{
 "cells": [
  {
   "cell_type": "code",
   "execution_count": null,
   "id": "e74b62be",
   "metadata": {},
   "outputs": [],
   "source": [
    "from sklearn.feature_selection import RFECV\n",
    "from xgboost import XGBClassifier\n",
    "\n"
   ]
  },
  {
   "cell_type": "code",
   "execution_count": null,
   "id": "66bbdd06",
   "metadata": {},
   "outputs": [],
   "source": [
    "# Initialize RFECV with your XGBoost model\n",
    "selector = RFECV(\n",
    "    estimator=XGBClassifier(random_state=42),\n",
    "    step=1,\n",
    "    cv=5,  \n",
    "    scoring='roc_auc',\n",
    "    min_features_to_select=20 \n",
    ")\n",
    "\n",
    "# Fit selector\n",
    "selector.fit(X_train, y_train)\n",
    "\n",
    "# Get selected features\n",
    "selected_features = X_train.columns[selector.support_]\n",
    "print(f\"Optimal number of features: {selector.n_features_}\")"
   ]
  }
 ],
 "metadata": {
  "kernelspec": {
   "display_name": "data-mining-vydQTLAI-py3.12",
   "language": "python",
   "name": "python3"
  },
  "language_info": {
   "name": "python",
   "version": "3.12.6"
  }
 },
 "nbformat": 4,
 "nbformat_minor": 5
}
